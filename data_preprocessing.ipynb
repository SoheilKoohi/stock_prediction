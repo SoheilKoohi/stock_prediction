{
 "cells": [
  {
   "cell_type": "code",
   "execution_count": 17,
   "metadata": {},
   "outputs": [],
   "source": [
    "import torch\n",
    "import os\n",
    "import pandas as pd"
   ]
  },
  {
   "cell_type": "code",
   "execution_count": 44,
   "metadata": {},
   "outputs": [],
   "source": [
    "def load_data(start_year=2002,end_year=2017):\n",
    "    col_name = [\"date\",\"time\",\"open\",\"high\",\"low\",\"close\",\"volume\"]\n",
    "    df_full = pd.DataFrame(columns = col_name)\n",
    "    for root, dirs, files in os.walk(\"/stock_prediction/stock_prediction/EURGBP/\"):\n",
    "        for file in files:\n",
    "            year = int(file.split(\".\")[0].split(\"_\")[-1])\n",
    "            if (file.endswith(\".csv\") and year >= start_year \n",
    "            and year <= end_year):\n",
    "                df = pd.read_csv(os.path.join(root,file),names = col_name)\n",
    "                df_full = pd.concat([df_full,df])\n",
    "                print(\"Stock data of year {0} loaded\".format(str(year)))\n",
    "    return df_full"
   ]
  }
 ],
 "metadata": {
  "kernelspec": {
   "display_name": "Python 3",
   "language": "python",
   "name": "python3"
  },
  "language_info": {
   "codemirror_mode": {
    "name": "ipython",
    "version": 3
   },
   "file_extension": ".py",
   "mimetype": "text/x-python",
   "name": "python",
   "nbconvert_exporter": "python",
   "pygments_lexer": "ipython3",
   "version": "3.7.3"
  }
 },
 "nbformat": 4,
 "nbformat_minor": 4
}
