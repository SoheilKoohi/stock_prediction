{
 "cells": [
  {
   "cell_type": "code",
   "execution_count": 64,
   "metadata": {},
   "outputs": [],
   "source": [
    "import torch\n",
    "import os\n",
    "import pandas as pd\n",
    "import numpy as np\n",
    "from tqdm import tqdm"
   ]
  },
  {
   "cell_type": "code",
   "execution_count": 34,
   "metadata": {},
   "outputs": [],
   "source": [
    "def load_data(start_year=2002,end_year=2017):\n",
    "    col_name = [\"date\",\"time\",\"open\",\"high\",\"low\",\"close\",\"volume\"]\n",
    "    df_full = pd.DataFrame(columns = col_name)\n",
    "    for root, dirs, files in os.walk(\"/stock_prediction/EURGBP/\"):\n",
    "        for file in files:\n",
    "            year = int(file.split(\".\")[0].split(\"_\")[-1])\n",
    "            if (file.endswith(\".csv\") and year >= start_year \n",
    "            and year <= end_year):\n",
    "                df = pd.read_csv(os.path.join(root,file),names = col_name)\n",
    "                df_full = pd.concat([df_full,df])\n",
    "                print(\"Stock data of year {0} loaded\".format(str(year)))\n",
    "    df_full.reset_index(inplace = True)\n",
    "    return df_full"
   ]
  },
  {
   "cell_type": "code",
   "execution_count": 97,
   "metadata": {},
   "outputs": [],
   "source": [
    "def create_features_and_labels(df,window_size = 12):\n",
    "    n = df.shape[0]\n",
    "    x_array = np.empty(shape = (n - window_size,window_size))\n",
    "    y_array = np.empty(shape = (n - window_size,1))\n",
    "    close_index = df.close\n",
    "    for i in tqdm(range(n-window_size)):\n",
    "        x_array[i] = close_index.iloc[i:i+window_size].values\n",
    "        y_array[i] = close_index.iloc[i + window_size]\n",
    "    return x_array,y_array"
   ]
  }
 ],
 "metadata": {
  "kernelspec": {
   "display_name": "Python 3",
   "language": "python",
   "name": "python3"
  },
  "language_info": {
   "codemirror_mode": {
    "name": "ipython",
    "version": 3
   },
   "file_extension": ".py",
   "mimetype": "text/x-python",
   "name": "python",
   "nbconvert_exporter": "python",
   "pygments_lexer": "ipython3",
   "version": "3.6.8"
  }
 },
 "nbformat": 4,
 "nbformat_minor": 4
}
